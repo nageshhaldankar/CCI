{
 "cells": [
  {
   "cell_type": "code",
   "execution_count": 1,
   "metadata": {},
   "outputs": [],
   "source": [
    "#Problem statement: Rotate Matrix NxN by 90 degree"
   ]
  },
  {
   "cell_type": "code",
   "execution_count": 2,
   "metadata": {},
   "outputs": [],
   "source": [
    "# Get the matrxi\n",
    "# We need to move the matrix considering the sqaure it has, which is determined by N/2\n",
    "# Loop over the matrix with N-x-1, where x is the outer loop"
   ]
  },
  {
   "cell_type": "code",
   "execution_count": 14,
   "metadata": {},
   "outputs": [],
   "source": [
    "mat = [[1,2,3,4],\n",
    "       [24,5,6,7],\n",
    "       [8,9,10,11],\n",
    "       [12,13,14,15]]"
   ]
  },
  {
   "cell_type": "code",
   "execution_count": 18,
   "metadata": {},
   "outputs": [],
   "source": [
    "N = len(mat)\n",
    "def rotate_matrix():\n",
    "    for x in range(int(N/2)):\n",
    "        for y in range(x, N-x-1):\n",
    "            temp = mat[x][y]  # Its 4\n",
    "            mat[x][y]=mat[y][N-x-1]\n",
    "            mat[y][N-x-1]=mat[N-1-x][N-y-1]\n",
    "            mat[N-1-x][N-y-1]=mat[N-1-y][x]\n",
    "            mat[N-y-1][x]=temp"
   ]
  },
  {
   "cell_type": "code",
   "execution_count": 19,
   "metadata": {},
   "outputs": [],
   "source": [
    "def displayMatrix(): \n",
    "    for i in range(0, N): \n",
    "        for j in range(0, N): \n",
    "            print (mat[i][j], end = ' ') \n",
    "        print (\"\") \n",
    "      "
   ]
  },
  {
   "cell_type": "code",
   "execution_count": 21,
   "metadata": {},
   "outputs": [
    {
     "name": "stdout",
     "output_type": "stream",
     "text": [
      "4 7 11 15 \n",
      "3 6 10 14 \n",
      "2 5 9 13 \n",
      "1 24 8 12 \n"
     ]
    }
   ],
   "source": [
    "rotate_matrix()\n",
    "displayMatrix()"
   ]
  }
 ],
 "metadata": {
  "kernelspec": {
   "display_name": "Python 3",
   "language": "python",
   "name": "python3"
  },
  "language_info": {
   "codemirror_mode": {
    "name": "ipython",
    "version": 3
   },
   "file_extension": ".py",
   "mimetype": "text/x-python",
   "name": "python",
   "nbconvert_exporter": "python",
   "pygments_lexer": "ipython3",
   "version": "3.7.3"
  }
 },
 "nbformat": 4,
 "nbformat_minor": 2
}
