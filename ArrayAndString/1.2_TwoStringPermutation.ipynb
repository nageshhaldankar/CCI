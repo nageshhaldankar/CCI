{
 "cells": [
  {
   "cell_type": "code",
   "execution_count": 2,
   "metadata": {},
   "outputs": [],
   "source": [
    "# Problem Statement: Given two string find one string is the permutaion of the other\n",
    "# Ex: abc, csb ==> True\n",
    "# Ex: Banana, Canaba ==> False"
   ]
  },
  {
   "cell_type": "code",
   "execution_count": 3,
   "metadata": {},
   "outputs": [],
   "source": [
    "# Get the both string\n",
    "# Check the length of both string\n",
    "# Check if the first string characters are present in second string.\n",
    "# Use dictionary to perform the permutation."
   ]
  },
  {
   "cell_type": "code",
   "execution_count": 46,
   "metadata": {},
   "outputs": [],
   "source": [
    "def create_dictionary(perm_str, dic):\n",
    "    for i in range(len(perm_str)):\n",
    "        if(dic.get(perm_str[i])):\n",
    "            dic[perm_str[i]]= dic[perm_str[i]] + 1\n",
    "        else:\n",
    "            dic[perm_str[i]]=1    "
   ]
  },
  {
   "cell_type": "code",
   "execution_count": 52,
   "metadata": {},
   "outputs": [
    {
     "name": "stdout",
     "output_type": "stream",
     "text": [
      "Strings have the permutation\n"
     ]
    }
   ],
   "source": [
    "first_str = \"aef\"\n",
    "second_str = \"eaf\"\n",
    "first_dict = {}\n",
    "second_dict = {}\n",
    "if len(first_str) != len(second_str):\n",
    "    print(\"No Permuatation\")\n",
    "else:\n",
    "    create_dictionary(first_str, first_dict)\n",
    "    create_dictionary(second_str, second_dict)\n",
    "    if (sorted(first_dict) == sorted(second_dict)):\n",
    "        print(\"Strings have the permutation\")\n",
    "    else:\n",
    "        print(\"No Permuatation\")        "
   ]
  }
 ],
 "metadata": {
  "kernelspec": {
   "display_name": "Python 3",
   "language": "python",
   "name": "python3"
  },
  "language_info": {
   "codemirror_mode": {
    "name": "ipython",
    "version": 3
   },
   "file_extension": ".py",
   "mimetype": "text/x-python",
   "name": "python",
   "nbconvert_exporter": "python",
   "pygments_lexer": "ipython3",
   "version": "3.7.3"
  }
 },
 "nbformat": 4,
 "nbformat_minor": 2
}
