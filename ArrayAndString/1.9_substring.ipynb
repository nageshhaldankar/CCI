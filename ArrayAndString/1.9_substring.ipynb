{
 "cells": [
  {
   "cell_type": "code",
   "execution_count": 1,
   "metadata": {},
   "outputs": [],
   "source": [
    "# Problem: check if one string is substring of the other, if the string is rotated"
   ]
  },
  {
   "cell_type": "code",
   "execution_count": 2,
   "metadata": {},
   "outputs": [],
   "source": [
    "olist=[]\n",
    "def substring(gstr, sub):\n",
    "    for i in range(len(gstr)):\n",
    "        gstr = gstr[-1]+gstr[:-1]\n",
    "        if (sub==gstr):\n",
    "            return True\n",
    "    return False\n",
    "    "
   ]
  },
  {
   "cell_type": "code",
   "execution_count": 3,
   "metadata": {},
   "outputs": [
    {
     "name": "stdout",
     "output_type": "stream",
     "text": [
      "Its not a substring\n"
     ]
    }
   ],
   "source": [
    "given_str='rotation'\n",
    "new_str='tationr'\n",
    "if (substring(given_str, new_str)):\n",
    "    print('Its a Substring')\n",
    "else:\n",
    "    print('Its not a substring')"
   ]
  }
 ],
 "metadata": {
  "kernelspec": {
   "display_name": "Python 3",
   "language": "python",
   "name": "python3"
  },
  "language_info": {
   "codemirror_mode": {
    "name": "ipython",
    "version": 3
   },
   "file_extension": ".py",
   "mimetype": "text/x-python",
   "name": "python",
   "nbconvert_exporter": "python",
   "pygments_lexer": "ipython3",
   "version": "3.7.3"
  }
 },
 "nbformat": 4,
 "nbformat_minor": 2
}
