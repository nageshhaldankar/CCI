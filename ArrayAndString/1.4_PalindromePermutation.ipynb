{
 "cells": [
  {
   "cell_type": "code",
   "execution_count": 1,
   "metadata": {},
   "outputs": [],
   "source": [
    "# Problem Statement: Palindrome permutation"
   ]
  },
  {
   "cell_type": "code",
   "execution_count": 2,
   "metadata": {},
   "outputs": [],
   "source": [
    "# Get the palindrome string\n",
    "# Get the permutation of the palindrom\n",
    "# Check the lenght, if n/2 =0, then change the permutation for first n/2 words\n",
    "# if n/2 reminder is 1 then middle character is same, change the permutation for the words before n/2."
   ]
  },
  {
   "cell_type": "code",
   "execution_count": 60,
   "metadata": {},
   "outputs": [],
   "source": [
    "given_str = \"findodnif\"\n",
    "olist = []"
   ]
  },
  {
   "cell_type": "code",
   "execution_count": 61,
   "metadata": {},
   "outputs": [
    {
     "name": "stdout",
     "output_type": "stream",
     "text": [
      "dfinonifd\n",
      "ndfioifdn\n",
      "indfofdni\n",
      "findodnif\n"
     ]
    }
   ],
   "source": [
    "reminder = len(given_str)%2\n",
    "quotient = int(len(given_str)/2)\n",
    "first_part = given_str[:quotient]\n",
    "\n",
    "# Rotate the first part of the string\n",
    "for i in range(len(first_part)):\n",
    "    first_part = first_part[-1] + first_part[:-1]\n",
    "    olist.append(first_part)\n",
    "\n",
    "if (reminder == 1):\n",
    "    for i in range(len(first_part)):\n",
    "        print(olist[i]+given_str[quotient]+olist[i][::-1])\n",
    "else:\n",
    "    for i in range(len(first_part)):\n",
    "        print(olist[i]+olist[i][::-1])\n"
   ]
  },
  {
   "cell_type": "code",
   "execution_count": 54,
   "metadata": {},
   "outputs": [],
   "source": [
    "#Note: In this particular example, the slice statement [::-1] means start at the end of the string and end at position 0, \n",
    "#      move with the step -1, negative one, which means one step backwards."
   ]
  }
 ],
 "metadata": {
  "kernelspec": {
   "display_name": "Python 3",
   "language": "python",
   "name": "python3"
  },
  "language_info": {
   "codemirror_mode": {
    "name": "ipython",
    "version": 3
   },
   "file_extension": ".py",
   "mimetype": "text/x-python",
   "name": "python",
   "nbconvert_exporter": "python",
   "pygments_lexer": "ipython3",
   "version": "3.7.3"
  }
 },
 "nbformat": 4,
 "nbformat_minor": 2
}
