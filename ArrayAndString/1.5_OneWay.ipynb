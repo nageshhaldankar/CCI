{
 "cells": [
  {
   "cell_type": "code",
   "execution_count": 1,
   "metadata": {},
   "outputs": [],
   "source": [
    "#problem statement: Given a two string, find if the string is one edit away."
   ]
  },
  {
   "cell_type": "code",
   "execution_count": null,
   "metadata": {},
   "outputs": [],
   "source": [
    "# Get both the string\n",
    "# Check the other is one less or equal in length\n",
    "# If one less, check the character is matching\n",
    "# if equal in length, check if n-1 string is matching\n",
    "#"
   ]
  },
  {
   "cell_type": "code",
   "execution_count": 121,
   "metadata": {},
   "outputs": [],
   "source": [
    "first_str = 'pales'\n",
    "second_str = 'pale'\n",
    "str_dict = {}\n",
    "dict2 ={}"
   ]
  },
  {
   "cell_type": "code",
   "execution_count": 122,
   "metadata": {},
   "outputs": [],
   "source": [
    "def create_dictionary(perm_str, dic):\n",
    "    for i in range(len(perm_str)):\n",
    "        if(dic.get(perm_str[i])):\n",
    "            dic[perm_str[i]]= dic[perm_str[i]] + 1\n",
    "        else:\n",
    "            dic[perm_str[i]]=1"
   ]
  },
  {
   "cell_type": "code",
   "execution_count": 123,
   "metadata": {},
   "outputs": [],
   "source": [
    "create_dictionary(first_str, str_dict)\n",
    "create_dictionary(second_str, dict2)"
   ]
  },
  {
   "cell_type": "code",
   "execution_count": 124,
   "metadata": {},
   "outputs": [],
   "source": [
    "def checkonway():\n",
    "    count=0\n",
    "    for key in str_dict:\n",
    "        if (key in dict2.keys()):\n",
    "            if (dict2[key]!=str_dict[key]):\n",
    "                count+=1\n",
    "                continue;\n",
    "        else:\n",
    "            count+=1\n",
    "    if (count == 1):\n",
    "        print(first_str+' ,' + second_str + ',' + '->' + 'True')\n",
    "    else:\n",
    "        print(first_str+' ,' + second_str + ',' + '->' + 'False')"
   ]
  },
  {
   "cell_type": "code",
   "execution_count": 125,
   "metadata": {},
   "outputs": [
    {
     "name": "stdout",
     "output_type": "stream",
     "text": [
      "pales ,pale,->True\n"
     ]
    }
   ],
   "source": [
    "if ((len(second_str) == len(first_str)-1) or (len(second_str) == len(first_str))):\n",
    "    checkonway()    \n",
    "else:\n",
    "    print(first_str+' ,' + second_str + ',' + '->' + 'aFalse')"
   ]
  }
 ],
 "metadata": {
  "kernelspec": {
   "display_name": "Python 3",
   "language": "python",
   "name": "python3"
  },
  "language_info": {
   "codemirror_mode": {
    "name": "ipython",
    "version": 3
   },
   "file_extension": ".py",
   "mimetype": "text/x-python",
   "name": "python",
   "nbconvert_exporter": "python",
   "pygments_lexer": "ipython3",
   "version": "3.7.3"
  }
 },
 "nbformat": 4,
 "nbformat_minor": 2
}
