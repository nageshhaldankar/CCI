{
 "cells": [
  {
   "cell_type": "code",
   "execution_count": 1,
   "metadata": {},
   "outputs": [],
   "source": [
    "# Problem Statement: Add the two digist from two linked list which are in reverse order"
   ]
  },
  {
   "cell_type": "code",
   "execution_count": 11,
   "metadata": {},
   "outputs": [],
   "source": [
    "# Iterate with the link list to get the number of element\n",
    "# Reverse the number and add. \n",
    "# Reverse the result and add back to link list."
   ]
  },
  {
   "cell_type": "code",
   "execution_count": 12,
   "metadata": {},
   "outputs": [],
   "source": [
    "class Node:\n",
    "    def __init__(self, data):\n",
    "        self.datavalue = data\n",
    "        self.nextval=None"
   ]
  },
  {
   "cell_type": "code",
   "execution_count": 13,
   "metadata": {},
   "outputs": [],
   "source": [
    "class SLinkedlist:\n",
    "    def __init__(self):\n",
    "        self.headval=None\n",
    "    def printval(self):\n",
    "        temp = self.headval\n",
    "        while (temp!=None):\n",
    "            print(temp.datavalue)\n",
    "            temp = temp.nextval\n",
    "    def insertbegining(self, data):\n",
    "        n1 = Node(data)\n",
    "        n1.nextval=self.headval\n",
    "        self.headval = n1\n",
    "    def insertend(self, data):\n",
    "        n1 = Node(data)\n",
    "        if (self.headval == None):\n",
    "            n1.nextval=self.headval\n",
    "            self.headval = n1\n",
    "        else:\n",
    "            ntemp = self.headval\n",
    "            while (ntemp.nextval !=None):\n",
    "                ntemp = ntemp.nextval\n",
    "            ntemp.nextval = n1\n",
    "            \n",
    "    def add(self, first, second, resnode):\n",
    "        ftemp = first.headval\n",
    "        stemp = second.headval\n",
    "        fval, sval = '',''\n",
    "        while (ftemp != None):\n",
    "            fval += str(ftemp.datavalue)\n",
    "            ftemp = ftemp.nextval\n",
    "        while (stemp != None):\n",
    "            sval += str(stemp.datavalue)\n",
    "            stemp = stemp.nextval\n",
    "        fval = fval[::-1]\n",
    "        sval = sval[::-1]\n",
    "        result = str(int(fval) + int (sval))\n",
    "        for i in range(len(result)):\n",
    "            resnode.insertbegining(result[i])"
   ]
  },
  {
   "cell_type": "code",
   "execution_count": 14,
   "metadata": {},
   "outputs": [],
   "source": [
    "list1 = SLinkedlist()\n",
    "first = SLinkedlist()\n",
    "second = SLinkedlist()\n",
    "resnode = SLinkedlist()"
   ]
  },
  {
   "cell_type": "code",
   "execution_count": 15,
   "metadata": {},
   "outputs": [],
   "source": [
    "first.insertbegining(1)\n",
    "first.insertend(3)\n",
    "first.insertend(4)"
   ]
  },
  {
   "cell_type": "code",
   "execution_count": 16,
   "metadata": {},
   "outputs": [],
   "source": [
    "second.insertbegining(3)\n",
    "second.insertend(7)\n",
    "second.insertend(2)"
   ]
  },
  {
   "cell_type": "code",
   "execution_count": 17,
   "metadata": {},
   "outputs": [],
   "source": [
    "list1.add(first, second, resnode)"
   ]
  },
  {
   "cell_type": "code",
   "execution_count": 18,
   "metadata": {},
   "outputs": [
    {
     "name": "stdout",
     "output_type": "stream",
     "text": [
      "4\n",
      "0\n",
      "7\n"
     ]
    }
   ],
   "source": [
    "resnode.printval()"
   ]
  }
 ],
 "metadata": {
  "kernelspec": {
   "display_name": "Python 3",
   "language": "python",
   "name": "python3"
  },
  "language_info": {
   "codemirror_mode": {
    "name": "ipython",
    "version": 3
   },
   "file_extension": ".py",
   "mimetype": "text/x-python",
   "name": "python",
   "nbconvert_exporter": "python",
   "pygments_lexer": "ipython3",
   "version": "3.7.3"
  }
 },
 "nbformat": 4,
 "nbformat_minor": 2
}
