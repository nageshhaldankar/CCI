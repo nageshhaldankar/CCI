{
 "cells": [
  {
   "cell_type": "code",
   "execution_count": 1,
   "metadata": {},
   "outputs": [],
   "source": [
    "# Problem Statement: Check if the link list is circular"
   ]
  },
  {
   "cell_type": "code",
   "execution_count": 2,
   "metadata": {},
   "outputs": [],
   "source": [
    "# Appraoch we can consider\n",
    "# Make two pointers, one fast and other slow. \n",
    "# When the slow one enters the loop at some point the two pointers will intersect"
   ]
  },
  {
   "cell_type": "code",
   "execution_count": 3,
   "metadata": {},
   "outputs": [],
   "source": [
    "class Node:\n",
    "    def __init__(self, data):\n",
    "        self.datavalue = data\n",
    "        self.nextval=None"
   ]
  },
  {
   "cell_type": "code",
   "execution_count": 4,
   "metadata": {},
   "outputs": [],
   "source": [
    "class SLinkedlist:\n",
    "    def __init__(self):\n",
    "        self.headval=None\n",
    "    def printval(self):\n",
    "        temp = self.headval\n",
    "        while (temp!=None):\n",
    "            print(temp.datavalue)\n",
    "            temp = temp.nextval\n",
    "\n",
    "    def insertnodeBegining(self, node):\n",
    "        node.nextval=self.headval\n",
    "        self.headval = node\n",
    "            \n",
    "    def insertnode(self, node):\n",
    "        if (self.headval == None):\n",
    "            node.nextval=self.headval\n",
    "            self.headval = node\n",
    "        else:\n",
    "            ntemp = self.headval\n",
    "            while (ntemp.nextval !=None):\n",
    "                ntemp = ntemp.nextval\n",
    "            ntemp.nextval = node\n",
    "        \n",
    "    def insertbegining(self, data):\n",
    "        n1 = Node(data)\n",
    "        n1.nextval=self.headval\n",
    "        self.headval = n1\n",
    "    def insertend(self, data):\n",
    "        n1 = Node(data)\n",
    "        if (self.headval == None):\n",
    "            n1.nextval=self.headval\n",
    "            self.headval = n1\n",
    "        else:\n",
    "            ntemp = self.headval\n",
    "            while (ntemp.nextval !=None):\n",
    "                ntemp = ntemp.nextval\n",
    "            ntemp.nextval = n1\n",
    "            \n",
    "    def intersects(self):\n",
    "        temp = self.headval\n",
    "        length = 0\n",
    "        while (temp != None):\n",
    "            length += 1\n",
    "            temp = temp.nextval\n",
    "        return length\n"
   ]
  },
  {
   "cell_type": "code",
   "execution_count": 5,
   "metadata": {},
   "outputs": [],
   "source": [
    "list1 = SLinkedlist()"
   ]
  },
  {
   "cell_type": "code",
   "execution_count": 6,
   "metadata": {},
   "outputs": [],
   "source": [
    "n1 = Node(1)\n",
    "n2 = Node(2)\n",
    "n3 = Node(3)"
   ]
  },
  {
   "cell_type": "code",
   "execution_count": 7,
   "metadata": {},
   "outputs": [],
   "source": [
    "list1.insertend(51)\n",
    "list1.insertend(52)\n",
    "list1.insertend(53)\n",
    "list1.insertend(54)"
   ]
  },
  {
   "cell_type": "code",
   "execution_count": 8,
   "metadata": {},
   "outputs": [],
   "source": [
    "list1.insertnode(n1)"
   ]
  },
  {
   "cell_type": "code",
   "execution_count": 9,
   "metadata": {},
   "outputs": [],
   "source": [
    "n2.nextval = n1\n",
    "n3.nextval = n2"
   ]
  },
  {
   "cell_type": "code",
   "execution_count": 10,
   "metadata": {},
   "outputs": [],
   "source": [
    "n1.nextval = list1.headval"
   ]
  },
  {
   "cell_type": "code",
   "execution_count": 11,
   "metadata": {},
   "outputs": [],
   "source": [
    "list1.headval = n3"
   ]
  },
  {
   "cell_type": "code",
   "execution_count": 12,
   "metadata": {},
   "outputs": [],
   "source": [
    "#list1.printval()"
   ]
  },
  {
   "cell_type": "code",
   "execution_count": 13,
   "metadata": {},
   "outputs": [
    {
     "name": "stdout",
     "output_type": "stream",
     "text": [
      "Its a Circular Linked List\n"
     ]
    }
   ],
   "source": [
    "cflag = False\n",
    "ntemp = list1.headval\n",
    "ftemp = list1.headval.nextval\n",
    "while (ftemp != None):\n",
    "    if (ftemp == ntemp):\n",
    "        cflag=True\n",
    "        break\n",
    "    if (ftemp.nextval != None):\n",
    "        ftemp = ftemp.nextval.nextval\n",
    "    else:\n",
    "        cflag = False\n",
    "        break\n",
    "    ntemp = ntemp.nextval\n",
    "if (cflag):\n",
    "    print('Its a Circular Linked List')\n",
    "else:\n",
    "    print('Its not a circular Linked List')\n",
    "\n"
   ]
  }
 ],
 "metadata": {
  "kernelspec": {
   "display_name": "Python 3",
   "language": "python",
   "name": "python3"
  },
  "language_info": {
   "codemirror_mode": {
    "name": "ipython",
    "version": 3
   },
   "file_extension": ".py",
   "mimetype": "text/x-python",
   "name": "python",
   "nbconvert_exporter": "python",
   "pygments_lexer": "ipython3",
   "version": "3.7.3"
  }
 },
 "nbformat": 4,
 "nbformat_minor": 2
}
