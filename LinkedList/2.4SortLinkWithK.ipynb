{
 "cells": [
  {
   "cell_type": "code",
   "execution_count": 1,
   "metadata": {},
   "outputs": [],
   "source": [
    "# Problem Statement: Partition the list based on value x"
   ]
  },
  {
   "cell_type": "code",
   "execution_count": 2,
   "metadata": {},
   "outputs": [],
   "source": [
    "# Iterate with the link list to get the number of element\n",
    "# Then iterate to the middle node and delete by assiging the previous node to next to deleted node."
   ]
  },
  {
   "cell_type": "code",
   "execution_count": 40,
   "metadata": {},
   "outputs": [],
   "source": [
    "class Node:\n",
    "    def __init__(self, data):\n",
    "        self.datavalue = data\n",
    "        self.nextval=None"
   ]
  },
  {
   "cell_type": "code",
   "execution_count": 326,
   "metadata": {},
   "outputs": [],
   "source": [
    "class SLinkedlist:\n",
    "    def __init__(self):\n",
    "        self.headval=None\n",
    "    def printval(self):\n",
    "        temp = self.headval\n",
    "        while (temp!=None):\n",
    "            print(temp.datavalue)\n",
    "            temp = temp.nextval\n",
    "    def insertbegining(self, data):\n",
    "        n1 = Node(data)\n",
    "        n1.nextval=self.headval\n",
    "        self.headval = n1\n",
    "    def insertend(self, data):\n",
    "        n1 = Node(data)\n",
    "        if (self.headval == None):\n",
    "            n1.nextval=self.headval\n",
    "            self.headval = n1\n",
    "        else:\n",
    "            ntemp = self.headval\n",
    "            while (ntemp.nextval !=None):\n",
    "                ntemp = ntemp.nextval\n",
    "            ntemp.nextval = n1\n",
    "            \n",
    "    def sortlinklist(self, head, val):\n",
    "        ptemp = self.headval\n",
    "        while (ptemp != None):\n",
    "            if (ptemp.datavalue < val):\n",
    "                head.insertbegining(ptemp.datavalue)\n",
    "                ptemp = ptemp.nextval\n",
    "            else:\n",
    "                print(ptemp.datavalue)\n",
    "                head.insertend(ptemp.datavalue)\n",
    "                ptemp = ptemp.nextval\n",
    "        #self.headval = head\n",
    "        return head"
   ]
  },
  {
   "cell_type": "code",
   "execution_count": 327,
   "metadata": {},
   "outputs": [],
   "source": [
    "list1 = SLinkedlist()"
   ]
  },
  {
   "cell_type": "code",
   "execution_count": 328,
   "metadata": {},
   "outputs": [],
   "source": [
    "list1.insertbegining(16)"
   ]
  },
  {
   "cell_type": "code",
   "execution_count": 329,
   "metadata": {},
   "outputs": [],
   "source": [
    "list1.insertend(12)\n",
    "list1.insertend(3)\n",
    "list1.insertend(14)\n",
    "list1.insertend(7)\n",
    "list1.insertend(6)\n",
    "list1.insertend(9)"
   ]
  },
  {
   "cell_type": "code",
   "execution_count": 330,
   "metadata": {},
   "outputs": [
    {
     "name": "stdout",
     "output_type": "stream",
     "text": [
      "16\n",
      "12\n",
      "3\n",
      "14\n",
      "7\n",
      "6\n",
      "9\n"
     ]
    }
   ],
   "source": [
    "list1.printval()"
   ]
  },
  {
   "cell_type": "code",
   "execution_count": 331,
   "metadata": {},
   "outputs": [],
   "source": [
    "head = SLinkedlist()"
   ]
  },
  {
   "cell_type": "code",
   "execution_count": 332,
   "metadata": {},
   "outputs": [
    {
     "name": "stdout",
     "output_type": "stream",
     "text": [
      "16\n",
      "12\n",
      "14\n",
      "7\n",
      "9\n"
     ]
    }
   ],
   "source": [
    "head = list1.sortlinklist(head, 7)"
   ]
  },
  {
   "cell_type": "code",
   "execution_count": null,
   "metadata": {},
   "outputs": [],
   "source": []
  },
  {
   "cell_type": "code",
   "execution_count": 333,
   "metadata": {},
   "outputs": [
    {
     "name": "stdout",
     "output_type": "stream",
     "text": [
      "6\n",
      "3\n",
      "16\n",
      "12\n",
      "14\n",
      "7\n",
      "9\n"
     ]
    }
   ],
   "source": [
    "head.printval()"
   ]
  },
  {
   "cell_type": "code",
   "execution_count": null,
   "metadata": {},
   "outputs": [],
   "source": []
  },
  {
   "cell_type": "code",
   "execution_count": null,
   "metadata": {},
   "outputs": [],
   "source": []
  },
  {
   "cell_type": "code",
   "execution_count": null,
   "metadata": {},
   "outputs": [],
   "source": []
  },
  {
   "cell_type": "code",
   "execution_count": null,
   "metadata": {},
   "outputs": [],
   "source": []
  },
  {
   "cell_type": "code",
   "execution_count": null,
   "metadata": {},
   "outputs": [],
   "source": []
  },
  {
   "cell_type": "code",
   "execution_count": null,
   "metadata": {},
   "outputs": [],
   "source": []
  },
  {
   "cell_type": "code",
   "execution_count": null,
   "metadata": {},
   "outputs": [],
   "source": []
  },
  {
   "cell_type": "code",
   "execution_count": null,
   "metadata": {},
   "outputs": [],
   "source": []
  },
  {
   "cell_type": "code",
   "execution_count": null,
   "metadata": {},
   "outputs": [],
   "source": []
  },
  {
   "cell_type": "code",
   "execution_count": null,
   "metadata": {},
   "outputs": [],
   "source": []
  },
  {
   "cell_type": "code",
   "execution_count": null,
   "metadata": {},
   "outputs": [],
   "source": []
  },
  {
   "cell_type": "code",
   "execution_count": null,
   "metadata": {},
   "outputs": [],
   "source": []
  },
  {
   "cell_type": "code",
   "execution_count": null,
   "metadata": {},
   "outputs": [],
   "source": []
  },
  {
   "cell_type": "code",
   "execution_count": null,
   "metadata": {},
   "outputs": [],
   "source": []
  },
  {
   "cell_type": "code",
   "execution_count": null,
   "metadata": {},
   "outputs": [],
   "source": []
  }
 ],
 "metadata": {
  "kernelspec": {
   "display_name": "Python 3",
   "language": "python",
   "name": "python3"
  },
  "language_info": {
   "codemirror_mode": {
    "name": "ipython",
    "version": 3
   },
   "file_extension": ".py",
   "mimetype": "text/x-python",
   "name": "python",
   "nbconvert_exporter": "python",
   "pygments_lexer": "ipython3",
   "version": "3.7.3"
  }
 },
 "nbformat": 4,
 "nbformat_minor": 2
}
