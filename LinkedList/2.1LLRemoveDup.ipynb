{
 "cells": [
  {
   "cell_type": "code",
   "execution_count": 1,
   "metadata": {},
   "outputs": [],
   "source": [
    "# Problem Statement: Remove duplicate from unsorted linkedlist"
   ]
  },
  {
   "cell_type": "code",
   "execution_count": 2,
   "metadata": {},
   "outputs": [],
   "source": [
    "class Node:\n",
    "    def __init__(self, data):\n",
    "        self.datavalue=data\n",
    "        self.nextval=None"
   ]
  },
  {
   "cell_type": "code",
   "execution_count": 39,
   "metadata": {},
   "outputs": [],
   "source": [
    "class SLinkedlist:\n",
    "    def __init__(self):\n",
    "        self.headval = None\n",
    "    def printval(self):\n",
    "        temp = self.headval\n",
    "        while (temp != None):\n",
    "            print(temp.datavalue)\n",
    "            temp = temp.nextval\n",
    "    def insetbegning(self, data):\n",
    "        ntemp = Node(data)\n",
    "        ntemp.nextval=self.headval\n",
    "        self.headval=ntemp\n",
    "    def insertend(self, data):\n",
    "        ntemp = Node(data)\n",
    "        temp = self.headval\n",
    "        while (temp.nextval !=None):\n",
    "            temp = temp.nextval\n",
    "        temp.nextval = ntemp\n",
    "    def removedup(self):\n",
    "        slownode = self.headval\n",
    "        while (slownode !=None):\n",
    "            fastnode = slownode\n",
    "            while(fastnode.nextval!=None):\n",
    "                if (slownode.datavalue == fastnode.nextval.datavalue):\n",
    "                    fastnode.nextval = fastnode.nextval.nextval\n",
    "                else:\n",
    "                    fastnode = fastnode.nextval\n",
    "            slownode = slownode.nextval\n",
    "                    \n",
    "    "
   ]
  },
  {
   "cell_type": "code",
   "execution_count": 40,
   "metadata": {},
   "outputs": [],
   "source": [
    "list1=SLinkedlist()"
   ]
  },
  {
   "cell_type": "code",
   "execution_count": 41,
   "metadata": {},
   "outputs": [],
   "source": [
    "list1.insetbegning(\"Mon\")"
   ]
  },
  {
   "cell_type": "code",
   "execution_count": 42,
   "metadata": {},
   "outputs": [],
   "source": [
    "list1.insertend('Tue')"
   ]
  },
  {
   "cell_type": "code",
   "execution_count": 43,
   "metadata": {},
   "outputs": [],
   "source": [
    "list1.insertend('Tue')"
   ]
  },
  {
   "cell_type": "code",
   "execution_count": 44,
   "metadata": {},
   "outputs": [],
   "source": [
    "list1.insertend('Wed')\n",
    "list1.insertend('Wed')\n",
    "list1.insertend('Thu')"
   ]
  },
  {
   "cell_type": "code",
   "execution_count": 45,
   "metadata": {},
   "outputs": [
    {
     "name": "stdout",
     "output_type": "stream",
     "text": [
      "Mon\n",
      "Tue\n",
      "Tue\n",
      "Wed\n",
      "Wed\n",
      "Thu\n"
     ]
    }
   ],
   "source": [
    "list1.printval()"
   ]
  },
  {
   "cell_type": "code",
   "execution_count": 46,
   "metadata": {},
   "outputs": [],
   "source": [
    "list1.removedup()"
   ]
  },
  {
   "cell_type": "code",
   "execution_count": 47,
   "metadata": {},
   "outputs": [
    {
     "name": "stdout",
     "output_type": "stream",
     "text": [
      "Mon\n",
      "Tue\n",
      "Wed\n",
      "Thu\n"
     ]
    }
   ],
   "source": [
    "list1.printval()"
   ]
  }
 ],
 "metadata": {
  "kernelspec": {
   "display_name": "Python 3",
   "language": "python",
   "name": "python3"
  },
  "language_info": {
   "codemirror_mode": {
    "name": "ipython",
    "version": 3
   },
   "file_extension": ".py",
   "mimetype": "text/x-python",
   "name": "python",
   "nbconvert_exporter": "python",
   "pygments_lexer": "ipython3",
   "version": "3.7.3"
  }
 },
 "nbformat": 4,
 "nbformat_minor": 2
}
