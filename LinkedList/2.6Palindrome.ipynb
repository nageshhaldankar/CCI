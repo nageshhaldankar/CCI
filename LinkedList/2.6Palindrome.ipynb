{
 "cells": [
  {
   "cell_type": "code",
   "execution_count": 1,
   "metadata": {},
   "outputs": [],
   "source": [
    "# Problem Statement: Linked list is Palindrome."
   ]
  },
  {
   "cell_type": "code",
   "execution_count": 11,
   "metadata": {},
   "outputs": [],
   "source": [
    "# Iterate with the link list to get the number of element\n",
    "# Reverse the number and add. \n",
    "# Reverse the result and add back to link list."
   ]
  },
  {
   "cell_type": "code",
   "execution_count": 89,
   "metadata": {},
   "outputs": [],
   "source": [
    "class Node:\n",
    "    def __init__(self, data):\n",
    "        self.datavalue = data\n",
    "        self.nextval=None"
   ]
  },
  {
   "cell_type": "code",
   "execution_count": 99,
   "metadata": {},
   "outputs": [],
   "source": [
    "class SLinkedlist:\n",
    "    def __init__(self):\n",
    "        self.headval=None\n",
    "    def printval(self):\n",
    "        temp = self.headval\n",
    "        while (temp!=None):\n",
    "            print(temp.datavalue)\n",
    "            temp = temp.nextval\n",
    "    def insertbegining(self, data):\n",
    "        n1 = Node(data)\n",
    "        n1.nextval=self.headval\n",
    "        self.headval = n1\n",
    "    def insertend(self, data):\n",
    "        n1 = Node(data)\n",
    "        if (self.headval == None):\n",
    "            n1.nextval=self.headval\n",
    "            self.headval = n1\n",
    "        else:\n",
    "            ntemp = self.headval\n",
    "            while (ntemp.nextval !=None):\n",
    "                ntemp = ntemp.nextval\n",
    "            ntemp.nextval = n1\n",
    "            \n",
    "    def GetLength(self):\n",
    "        temp = self.headval\n",
    "        length = 0\n",
    "        while (temp != None):\n",
    "            length += 1\n",
    "            temp = temp.nextval\n",
    "        return length\n"
   ]
  },
  {
   "cell_type": "code",
   "execution_count": 100,
   "metadata": {},
   "outputs": [],
   "source": [
    "list1 = SLinkedlist()"
   ]
  },
  {
   "cell_type": "code",
   "execution_count": 101,
   "metadata": {},
   "outputs": [],
   "source": [
    "list1.insertbegining('P')\n",
    "list1.insertend('A')\n",
    "list1.insertend('N')\n",
    "list1.insertend('O')\n",
    "list1.insertend('N')\n",
    "list1.insertend('A')\n",
    "list1.insertend('P')"
   ]
  },
  {
   "cell_type": "code",
   "execution_count": 102,
   "metadata": {},
   "outputs": [
    {
     "name": "stdout",
     "output_type": "stream",
     "text": [
      "P\n",
      "A\n",
      "N\n",
      "O\n",
      "N\n",
      "A\n",
      "P\n"
     ]
    }
   ],
   "source": [
    "list1.printval()"
   ]
  },
  {
   "cell_type": "code",
   "execution_count": 103,
   "metadata": {},
   "outputs": [],
   "source": [
    "length = list1.GetLength()"
   ]
  },
  {
   "cell_type": "code",
   "execution_count": 104,
   "metadata": {},
   "outputs": [],
   "source": [
    "revlist = SLinkedlist()"
   ]
  },
  {
   "cell_type": "code",
   "execution_count": 105,
   "metadata": {},
   "outputs": [],
   "source": [
    "temp = list1.headval\n",
    "ptemp = list1.headval\n",
    "pflag = True\n",
    "# Get the Pointer to the middle\n",
    "if (length % 2 == 0):\n",
    "    N = int(length/2)\n",
    "else:\n",
    "    N = int(length/2 + 1)\n",
    "for i in range(N):\n",
    "    ptemp = ptemp.nextval"
   ]
  },
  {
   "cell_type": "code",
   "execution_count": 106,
   "metadata": {},
   "outputs": [],
   "source": [
    "while(ptemp != None):\n",
    "    revlist.insertbegining(ptemp.datavalue)\n",
    "    ptemp = ptemp.nextval"
   ]
  },
  {
   "cell_type": "code",
   "execution_count": 107,
   "metadata": {},
   "outputs": [
    {
     "name": "stdout",
     "output_type": "stream",
     "text": [
      "Palindrome\n"
     ]
    }
   ],
   "source": [
    "rtemp = revlist.headval\n",
    "while (rtemp != None):\n",
    "    if (rtemp.datavalue != temp.datavalue):\n",
    "        pflag = False\n",
    "    rtemp = rtemp.nextval\n",
    "    temp = temp.nextval\n",
    "if (pflag):\n",
    "    print('Palindrome')\n",
    "else:\n",
    "    print('Not Palindrome')"
   ]
  }
 ],
 "metadata": {
  "kernelspec": {
   "display_name": "Python 3",
   "language": "python",
   "name": "python3"
  },
  "language_info": {
   "codemirror_mode": {
    "name": "ipython",
    "version": 3
   },
   "file_extension": ".py",
   "mimetype": "text/x-python",
   "name": "python",
   "nbconvert_exporter": "python",
   "pygments_lexer": "ipython3",
   "version": "3.7.3"
  }
 },
 "nbformat": 4,
 "nbformat_minor": 2
}
