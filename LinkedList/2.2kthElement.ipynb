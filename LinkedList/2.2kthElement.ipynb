{
 "cells": [
  {
   "cell_type": "code",
   "execution_count": 1,
   "metadata": {},
   "outputs": [],
   "source": [
    "# Problem Statement: Find the Kth to the last element in linked list"
   ]
  },
  {
   "cell_type": "code",
   "execution_count": 2,
   "metadata": {},
   "outputs": [],
   "source": [
    "# Iterate with the link list to get the number of element\n",
    "# Then iterate to the Kth element to the last"
   ]
  },
  {
   "cell_type": "code",
   "execution_count": 3,
   "metadata": {},
   "outputs": [],
   "source": [
    "class Node:\n",
    "    def __init__(self, data):\n",
    "        self.datavalue = data\n",
    "        self.nextval=None"
   ]
  },
  {
   "cell_type": "code",
   "execution_count": 4,
   "metadata": {},
   "outputs": [],
   "source": [
    "class SLinkedlist:\n",
    "    def __init__(self):\n",
    "        self.headval=None\n",
    "    def printval(self):\n",
    "        temp = self.headval\n",
    "        while (temp!=None):\n",
    "            print(temp.datavalue)\n",
    "            temp = temp.nextval\n",
    "    def insertbegining(self, data):\n",
    "        n1 = Node(data)\n",
    "        ntemp = self.headval\n",
    "        n1.nextval=self.headval\n",
    "        self.headval = n1\n",
    "    def insertend(self, data):\n",
    "        n1 = Node(data)\n",
    "        ntemp = self.headval\n",
    "        while (ntemp.nextval !=None):\n",
    "            ntemp = ntemp.nextval\n",
    "        ntemp.nextval = n1\n",
    "    def kthelementLast(self, k):\n",
    "        ntemp = self.headval\n",
    "        count = 0\n",
    "        while (ntemp != None):\n",
    "            count +=1\n",
    "            ntemp = ntemp.nextval\n",
    "        ntemp = self.headval\n",
    "        for i in range(count-k):\n",
    "            ntemp = ntemp.nextval\n",
    "        print(\" The\" +str(k) + \"th element from last is \" + ntemp.datavalue)\n",
    "        "
   ]
  },
  {
   "cell_type": "code",
   "execution_count": 5,
   "metadata": {},
   "outputs": [],
   "source": [
    "list1 = SLinkedlist()"
   ]
  },
  {
   "cell_type": "code",
   "execution_count": 6,
   "metadata": {},
   "outputs": [],
   "source": [
    "list1.insertbegining(\"Sun\")"
   ]
  },
  {
   "cell_type": "code",
   "execution_count": 7,
   "metadata": {},
   "outputs": [],
   "source": [
    "list1.insertend('Mon')\n",
    "list1.insertend('Tue')\n",
    "list1.insertend('Wed')\n",
    "list1.insertend('Thu')\n",
    "list1.insertend('Fri')\n",
    "list1.insertend('Sat')"
   ]
  },
  {
   "cell_type": "code",
   "execution_count": 8,
   "metadata": {},
   "outputs": [
    {
     "name": "stdout",
     "output_type": "stream",
     "text": [
      " The4th element from last is Wed\n"
     ]
    }
   ],
   "source": [
    "list1.kthelementLast(4)"
   ]
  }
 ],
 "metadata": {
  "kernelspec": {
   "display_name": "Python 3",
   "language": "python",
   "name": "python3"
  },
  "language_info": {
   "codemirror_mode": {
    "name": "ipython",
    "version": 3
   },
   "file_extension": ".py",
   "mimetype": "text/x-python",
   "name": "python",
   "nbconvert_exporter": "python",
   "pygments_lexer": "ipython3",
   "version": "3.7.3"
  }
 },
 "nbformat": 4,
 "nbformat_minor": 2
}
