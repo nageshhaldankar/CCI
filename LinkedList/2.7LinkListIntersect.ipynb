{
 "cells": [
  {
   "cell_type": "code",
   "execution_count": 1,
   "metadata": {},
   "outputs": [],
   "source": [
    "# Problem Statement: Check if the two linklist is intersect"
   ]
  },
  {
   "cell_type": "code",
   "execution_count": 2,
   "metadata": {},
   "outputs": [],
   "source": [
    "# Two appraoch we can consider\n",
    "# 1. Iterate both the link list and check if the end node is same, which will determine if the list intersect\n",
    "# 2. Reverse the two linked list and and then iterate to check where the node is same."
   ]
  },
  {
   "cell_type": "code",
   "execution_count": 3,
   "metadata": {},
   "outputs": [],
   "source": [
    "class Node:\n",
    "    def __init__(self, data):\n",
    "        self.datavalue = data\n",
    "        self.nextval=None"
   ]
  },
  {
   "cell_type": "code",
   "execution_count": 4,
   "metadata": {},
   "outputs": [],
   "source": [
    "class SLinkedlist:\n",
    "    def __init__(self):\n",
    "        self.headval=None\n",
    "    def printval(self):\n",
    "        temp = self.headval\n",
    "        while (temp!=None):\n",
    "            print(temp.datavalue)\n",
    "            temp = temp.nextval\n",
    "\n",
    "    def insertnodeBegining(self, node):\n",
    "        node.nextval=self.headval\n",
    "        self.headval = node\n",
    "            \n",
    "    def insertnode(self, node):\n",
    "        if (self.headval == None):\n",
    "            node.nextval=self.headval\n",
    "            self.headval = node\n",
    "        else:\n",
    "            ntemp = self.headval\n",
    "            while (ntemp.nextval !=None):\n",
    "                ntemp = ntemp.nextval\n",
    "            ntemp.nextval = node\n",
    "        \n",
    "    def insertbegining(self, data):\n",
    "        n1 = Node(data)\n",
    "        n1.nextval=self.headval\n",
    "        self.headval = n1\n",
    "    def insertend(self, data):\n",
    "        n1 = Node(data)\n",
    "        if (self.headval == None):\n",
    "            n1.nextval=self.headval\n",
    "            self.headval = n1\n",
    "        else:\n",
    "            ntemp = self.headval\n",
    "            while (ntemp.nextval !=None):\n",
    "                ntemp = ntemp.nextval\n",
    "            ntemp.nextval = n1\n",
    "            \n",
    "    def intersects(self):\n",
    "        temp = self.headval\n",
    "        length = 0\n",
    "        while (temp != None):\n",
    "            length += 1\n",
    "            temp = temp.nextval\n",
    "        return length\n"
   ]
  },
  {
   "cell_type": "code",
   "execution_count": 5,
   "metadata": {},
   "outputs": [],
   "source": [
    "list1 = SLinkedlist()\n",
    "list2 = SLinkedlist()"
   ]
  },
  {
   "cell_type": "code",
   "execution_count": 6,
   "metadata": {},
   "outputs": [],
   "source": [
    "n1 = Node(1)\n",
    "n2 = Node(2)\n",
    "n3 = Node(3)"
   ]
  },
  {
   "cell_type": "code",
   "execution_count": 7,
   "metadata": {},
   "outputs": [],
   "source": [
    "list1.insertend(51)\n",
    "list1.insertend(52)\n",
    "list1.insertend(53)\n",
    "list1.insertend(54)"
   ]
  },
  {
   "cell_type": "code",
   "execution_count": 8,
   "metadata": {},
   "outputs": [],
   "source": [
    "list2.insertend(61)\n",
    "list2.insertend(62)"
   ]
  },
  {
   "cell_type": "code",
   "execution_count": 9,
   "metadata": {},
   "outputs": [],
   "source": [
    "list1.insertnode(n1)\n",
    "list1.insertnode(n2)\n",
    "list1.insertnode(n3)"
   ]
  },
  {
   "cell_type": "code",
   "execution_count": 10,
   "metadata": {},
   "outputs": [],
   "source": [
    "list2.insertnode(n1)"
   ]
  },
  {
   "cell_type": "code",
   "execution_count": 11,
   "metadata": {},
   "outputs": [
    {
     "name": "stdout",
     "output_type": "stream",
     "text": [
      "51\n",
      "52\n",
      "53\n",
      "54\n",
      "1\n",
      "2\n",
      "3\n"
     ]
    }
   ],
   "source": [
    "list1.printval()"
   ]
  },
  {
   "cell_type": "code",
   "execution_count": 12,
   "metadata": {},
   "outputs": [
    {
     "name": "stdout",
     "output_type": "stream",
     "text": [
      "61\n",
      "62\n",
      "1\n",
      "2\n",
      "3\n"
     ]
    }
   ],
   "source": [
    "list2.printval()"
   ]
  },
  {
   "cell_type": "code",
   "execution_count": 13,
   "metadata": {},
   "outputs": [],
   "source": [
    "ntemp = list1.headval\n",
    "while (ntemp.nextval != None):\n",
    "    ntemp = ntemp.nextval\n"
   ]
  },
  {
   "cell_type": "code",
   "execution_count": 14,
   "metadata": {},
   "outputs": [],
   "source": [
    "btemp = list2.headval\n",
    "while (btemp.nextval != None):\n",
    "    btemp = btemp.nextval"
   ]
  },
  {
   "cell_type": "code",
   "execution_count": 15,
   "metadata": {},
   "outputs": [
    {
     "name": "stdout",
     "output_type": "stream",
     "text": [
      "The Two link list intersect\n"
     ]
    }
   ],
   "source": [
    "if (ntemp == btemp):\n",
    "    print('The Two link list intersect')\n",
    "else:\n",
    "    print('The Two link does not intersect')"
   ]
  }
 ],
 "metadata": {
  "kernelspec": {
   "display_name": "Python 3",
   "language": "python",
   "name": "python3"
  },
  "language_info": {
   "codemirror_mode": {
    "name": "ipython",
    "version": 3
   },
   "file_extension": ".py",
   "mimetype": "text/x-python",
   "name": "python",
   "nbconvert_exporter": "python",
   "pygments_lexer": "ipython3",
   "version": "3.7.3"
  }
 },
 "nbformat": 4,
 "nbformat_minor": 2
}
