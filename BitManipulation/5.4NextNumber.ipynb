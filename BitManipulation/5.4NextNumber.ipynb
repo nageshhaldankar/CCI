{
 "cells": [
  {
   "cell_type": "code",
   "execution_count": 1,
   "metadata": {},
   "outputs": [],
   "source": [
    "# Problem Statement: Given an integer, find the longest and smallest number"
   ]
  },
  {
   "cell_type": "code",
   "execution_count": 2,
   "metadata": {},
   "outputs": [],
   "source": [
    "def FindNext(num):\n",
    "    c1=0\n",
    "    c0=0\n",
    "    c=num\n",
    "    while((c & 1 == 0) and (c !=0)):\n",
    "        c0+=1\n",
    "        c  = c >> 1\n",
    "    while ((c & 1 == 1)):\n",
    "        c1+=1\n",
    "        c = c >> 1\n",
    "    p = c0 + c1\n",
    "    print(p)\n",
    "    # Set the flip bit\n",
    "    num = num | (1 << p)\n",
    "    # Clear all bits to right\n",
    "    num = num & ~((1 << p) -1)\n",
    "    # Insert C1-1 to right of p\n",
    "    num = num | (1 << (c1-1)) -1\n",
    "    print(num)"
   ]
  },
  {
   "cell_type": "code",
   "execution_count": 3,
   "metadata": {},
   "outputs": [
    {
     "name": "stdout",
     "output_type": "stream",
     "text": [
      "5\n",
      "99\n"
     ]
    }
   ],
   "source": [
    "FindNext(92)"
   ]
  },
  {
   "cell_type": "code",
   "execution_count": 4,
   "metadata": {},
   "outputs": [],
   "source": [
    "def findprev(num):\n",
    "    c1=0\n",
    "    c0=0\n",
    "    c=num\n",
    "    while ((c & 1 == 1)):\n",
    "        c1+=1\n",
    "        c = c >> 1\n",
    "    while((c & 1 == 0) and (c !=0)):\n",
    "        c0+=1\n",
    "        c  = c >> 1\n",
    "        \n",
    "    p = c0 + c1\n",
    "    print(p)\n",
    "    num = num - (1 << c1) - (1 << (c0 -1)) +1\n",
    "    print(num)\n",
    "    "
   ]
  },
  {
   "cell_type": "code",
   "execution_count": 5,
   "metadata": {},
   "outputs": [
    {
     "name": "stdout",
     "output_type": "stream",
     "text": [
      "7\n",
      "112\n"
     ]
    }
   ],
   "source": [
    " findprev(131)"
   ]
  },
  {
   "cell_type": "code",
   "execution_count": 6,
   "metadata": {},
   "outputs": [],
   "source": [
    "# n=10000011\n",
    "# 1<< c0-1=10000\n",
    "# 1<< c1 = 100\n",
    "# n-(1<<c1)=01111111\n",
    "# -(1<<(c0-1))=01101111\n",
    "# +1 = 01110000"
   ]
  }
 ],
 "metadata": {
  "kernelspec": {
   "display_name": "Python 3",
   "language": "python",
   "name": "python3"
  },
  "language_info": {
   "codemirror_mode": {
    "name": "ipython",
    "version": 3
   },
   "file_extension": ".py",
   "mimetype": "text/x-python",
   "name": "python",
   "nbconvert_exporter": "python",
   "pygments_lexer": "ipython3",
   "version": "3.7.3"
  }
 },
 "nbformat": 4,
 "nbformat_minor": 2
}
