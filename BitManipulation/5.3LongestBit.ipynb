{
 "cells": [
  {
   "cell_type": "code",
   "execution_count": 1,
   "metadata": {},
   "outputs": [],
   "source": [
    "# Problem Statement: Check for the longest bit with 1. You can flip one bit from 0 to 1."
   ]
  },
  {
   "cell_type": "code",
   "execution_count": 2,
   "metadata": {},
   "outputs": [],
   "source": [
    "def flipbit(num):\n",
    "    currentlen = 0\n",
    "    prevlen = 0\n",
    "    maxlen = 0\n",
    "    while (num != 0):\n",
    "        if ((num & 1) == 1):\n",
    "            currentlen +=1\n",
    "        elif ((num & 1) == 0):\n",
    "            if ((num & 2) == 0):\n",
    "                prevlen=0\n",
    "                currentlen = 0\n",
    "            elif ((num & 2) == 1):\n",
    "                prevlen = currentlen\n",
    "                currentlen = 0\n",
    "        num = num >> 1\n",
    "        maxlen = max(prevlen + currentlen, maxlen)\n",
    "    if (prevlen != 0):\n",
    "        maxlen += 1\n",
    "    return maxlen"
   ]
  },
  {
   "cell_type": "code",
   "execution_count": 4,
   "metadata": {},
   "outputs": [
    {
     "data": {
      "text/plain": [
       "3"
      ]
     },
     "execution_count": 4,
     "metadata": {},
     "output_type": "execute_result"
    }
   ],
   "source": [
    "flipbit(13)"
   ]
  },
  {
   "cell_type": "code",
   "execution_count": 5,
   "metadata": {},
   "outputs": [
    {
     "data": {
      "text/plain": [
       "4"
      ]
     },
     "execution_count": 5,
     "metadata": {},
     "output_type": "execute_result"
    }
   ],
   "source": [
    "flipbit(15)"
   ]
  }
 ],
 "metadata": {
  "kernelspec": {
   "display_name": "Python 3",
   "language": "python",
   "name": "python3"
  },
  "language_info": {
   "codemirror_mode": {
    "name": "ipython",
    "version": 3
   },
   "file_extension": ".py",
   "mimetype": "text/x-python",
   "name": "python",
   "nbconvert_exporter": "python",
   "pygments_lexer": "ipython3",
   "version": "3.7.3"
  }
 },
 "nbformat": 4,
 "nbformat_minor": 2
}
