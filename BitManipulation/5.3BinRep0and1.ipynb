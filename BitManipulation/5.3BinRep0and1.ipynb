{
 "cells": [
  {
   "cell_type": "code",
   "execution_count": 1,
   "metadata": {},
   "outputs": [],
   "source": [
    "# Problem Statement: Binary representation of number between 0 and 1"
   ]
  },
  {
   "cell_type": "code",
   "execution_count": 37,
   "metadata": {},
   "outputs": [],
   "source": [
    "def binaryrepresentation(num):\n",
    "    binnum = ''\n",
    "    while ( num > 0):\n",
    "        res = num * 2\n",
    "        if (len(binnum)>= 32):\n",
    "            print('Error')\n",
    "            break\n",
    "        if (res >= 1):\n",
    "            binnum  = binnum + str(1)\n",
    "            num = res - 1\n",
    "        else:\n",
    "            binnum  = binnum + str(0)\n",
    "            num = res\n",
    "\n",
    "    return binnum\n",
    "    "
   ]
  },
  {
   "cell_type": "code",
   "execution_count": 42,
   "metadata": {},
   "outputs": [
    {
     "name": "stdout",
     "output_type": "stream",
     "text": [
      "0.01\n"
     ]
    }
   ],
   "source": [
    "print('0.'+ binaryrepresentation(0.25))"
   ]
  }
 ],
 "metadata": {
  "kernelspec": {
   "display_name": "Python 3",
   "language": "python",
   "name": "python3"
  },
  "language_info": {
   "codemirror_mode": {
    "name": "ipython",
    "version": 3
   },
   "file_extension": ".py",
   "mimetype": "text/x-python",
   "name": "python",
   "nbconvert_exporter": "python",
   "pygments_lexer": "ipython3",
   "version": "3.7.3"
  }
 },
 "nbformat": 4,
 "nbformat_minor": 2
}
