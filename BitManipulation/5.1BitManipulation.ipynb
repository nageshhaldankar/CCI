{
 "cells": [
  {
   "cell_type": "code",
   "execution_count": 15,
   "metadata": {},
   "outputs": [],
   "source": [
    "# Problem: Bit Insertion given two numbers, insert second bit in first."
   ]
  },
  {
   "cell_type": "code",
   "execution_count": 16,
   "metadata": {},
   "outputs": [],
   "source": [
    "def InsertBit(M, N, i, j):\n",
    "    ones = ~0\n",
    "    left = ones << (j+1)\n",
    "    right = ((1 << i) - 1)\n",
    "    mask = left | right\n",
    "    val = M & mask\n",
    "    shift = N << i\n",
    "    result = val | shift\n",
    "    return result\n",
    "    "
   ]
  },
  {
   "cell_type": "code",
   "execution_count": 17,
   "metadata": {},
   "outputs": [
    {
     "name": "stdout",
     "output_type": "stream",
     "text": [
      "1176\n"
     ]
    }
   ],
   "source": [
    "M=1024\n",
    "N=19\n",
    "print(InsertBit(M, N, 3, 7))"
   ]
  },
  {
   "cell_type": "code",
   "execution_count": 18,
   "metadata": {},
   "outputs": [],
   "source": [
    "#   1000\n",
    "# - 0001\n",
    "# ==========\n",
    "#   0111\n",
    "# I= Starts from 0 from left\n",
    "# J = Starts from 0 from left\n"
   ]
  }
 ],
 "metadata": {
  "kernelspec": {
   "display_name": "Python 3",
   "language": "python",
   "name": "python3"
  },
  "language_info": {
   "codemirror_mode": {
    "name": "ipython",
    "version": 3
   },
   "file_extension": ".py",
   "mimetype": "text/x-python",
   "name": "python",
   "nbconvert_exporter": "python",
   "pygments_lexer": "ipython3",
   "version": "3.7.3"
  }
 },
 "nbformat": 4,
 "nbformat_minor": 2
}
