{
 "cells": [
  {
   "cell_type": "code",
   "execution_count": 31,
   "metadata": {},
   "outputs": [],
   "source": [
    "#Problem Statement: Search value in BTree"
   ]
  },
  {
   "cell_type": "code",
   "execution_count": 81,
   "metadata": {},
   "outputs": [],
   "source": [
    "class Node:\n",
    "    def __init__(self, data):\n",
    "        self.left = None\n",
    "        self.right = None\n",
    "        self.datavalue = data\n",
    "        \n",
    "    def insertNode(self, node):\n",
    "        if (node.datavalue < self.datavalue):\n",
    "            if (self.left == None):\n",
    "                self.left = node\n",
    "            else:\n",
    "                self.left.insertNode(node)\n",
    "        else:\n",
    "            if (self.right == None):\n",
    "                self.right = node\n",
    "            else:\n",
    "                self.right.insertNode(node)\n",
    "\n",
    "    \n",
    "    def preorder(self):\n",
    "        if self:\n",
    "            print(self.datavalue)\n",
    "            if (self.left != None):\n",
    "                self.left.preorder()\n",
    "            if (self.right != None):\n",
    "                self.right.preorder()\n",
    "        return\n",
    "    \n",
    "    def postorder(self):\n",
    "        if self:\n",
    "            if (self.left != None):\n",
    "                self.left.postorder()                \n",
    "            if (self.right != None):\n",
    "                self.right.postorder()\n",
    "            print(self.datavalue)\n",
    "        \n",
    "    \n",
    "    def inorder(self):\n",
    "        if self:\n",
    "            if (self.left != None):\n",
    "                self.left.inorder()\n",
    "            print(self.datavalue)\n",
    "            if (self.right != None):\n",
    "                self.right.inorder()\n",
    "        return\n",
    "    def findvalue(self, data):\n",
    "        retvalue=False\n",
    "        if self:\n",
    "            if (self.datavalue == data):\n",
    "                print('Found')\n",
    "                return True\n",
    "            else:\n",
    "                if (self.left != None and not retvalue):\n",
    "                    retvalue = self.left.findvalue(data)\n",
    "                if (self.right != None and not retvalue):\n",
    "                    retvalue = self.right.findvalue(data)\n",
    "        return retvalue\n"
   ]
  },
  {
   "cell_type": "code",
   "execution_count": 82,
   "metadata": {},
   "outputs": [],
   "source": [
    "root = Node(30)"
   ]
  },
  {
   "cell_type": "code",
   "execution_count": 83,
   "metadata": {},
   "outputs": [],
   "source": [
    "root.insertNode(Node(10))\n",
    "root.insertNode(Node(40))\n",
    "root.insertNode(Node(5))\n",
    "root.insertNode(Node(89))\n",
    "root.insertNode(Node(6))"
   ]
  },
  {
   "cell_type": "code",
   "execution_count": 88,
   "metadata": {},
   "outputs": [
    {
     "name": "stdout",
     "output_type": "stream",
     "text": [
      "Found\n",
      "The value is found in Tree\n"
     ]
    }
   ],
   "source": [
    "found = root.findvalue(6)\n",
    "if (found):\n",
    "    print('The value is found in Tree')\n",
    "else:\n",
    "    print('The Value is not found in Tree')"
   ]
  }
 ],
 "metadata": {
  "kernelspec": {
   "display_name": "Python 3",
   "language": "python",
   "name": "python3"
  },
  "language_info": {
   "codemirror_mode": {
    "name": "ipython",
    "version": 3
   },
   "file_extension": ".py",
   "mimetype": "text/x-python",
   "name": "python",
   "nbconvert_exporter": "python",
   "pygments_lexer": "ipython3",
   "version": "3.7.3"
  }
 },
 "nbformat": 4,
 "nbformat_minor": 2
}
