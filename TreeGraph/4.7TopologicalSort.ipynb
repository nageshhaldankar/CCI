{
 "cells": [
  {
   "cell_type": "code",
   "execution_count": 1,
   "metadata": {},
   "outputs": [],
   "source": [
    "# Graph: Check if node has a successor"
   ]
  },
  {
   "cell_type": "code",
   "execution_count": 2,
   "metadata": {},
   "outputs": [],
   "source": [
    "class Graph:\n",
    "    def __init__(self):\n",
    "        self.nodes = []\n",
    "        self.prjdict = {}\n",
    "    def GetorCreateNode(self, name):\n",
    "        if (self.prjdict.get(name) == None):\n",
    "            node = Project(name)\n",
    "            self.prjdict[name]=node\n",
    "            self.nodes.append(node)\n",
    "        return self.prjdict.get(name)\n",
    "\n",
    "    def addEdge(self, sname, ename):\n",
    "        snode = self.GetorCreateNode(sname)\n",
    "        enode = self.GetorCreateNode(ename)\n",
    "        snode.addneighbour(enode)"
   ]
  },
  {
   "cell_type": "code",
   "execution_count": 3,
   "metadata": {},
   "outputs": [],
   "source": [
    "class Project:\n",
    "\n",
    "    def __init__(self,name):\n",
    "        self.name = name\n",
    "        self.dependencies = 0\n",
    "        self.dprojectdict = {}\n",
    "        self.projectnodes = []\n",
    "        \n",
    "    def addneighbour(self, node):\n",
    "        if (self.dprojectdict.get(node.name)==None):\n",
    "            self.projectnodes.append(node)\n",
    "            self.dprojectdict[node.name]=node\n",
    "            node.dependencies+=1     \n",
    "    \n",
    "    def incdependencies(self):\n",
    "        self.dependencies+=1\n",
    "    \n",
    "    def decdependencies(self):\n",
    "        self.dependencies-=1\n",
    "        \n",
    "        "
   ]
  },
  {
   "cell_type": "code",
   "execution_count": 4,
   "metadata": {},
   "outputs": [],
   "source": [
    "gph = Graph()"
   ]
  },
  {
   "cell_type": "code",
   "execution_count": 5,
   "metadata": {},
   "outputs": [
    {
     "data": {
      "text/plain": [
       "<__main__.Project at 0x29eb7c65400>"
      ]
     },
     "execution_count": 5,
     "metadata": {},
     "output_type": "execute_result"
    }
   ],
   "source": [
    "gph.GetorCreateNode(\"1\")\n",
    "gph.GetorCreateNode(\"2\")\n",
    "gph.GetorCreateNode(\"3\")\n",
    "gph.GetorCreateNode(\"4\")\n",
    "gph.GetorCreateNode(\"5\")"
   ]
  },
  {
   "cell_type": "code",
   "execution_count": 6,
   "metadata": {},
   "outputs": [],
   "source": [
    "gph.addEdge(\"1\", \"2\")\n",
    "gph.addEdge(\"1\", \"3\")\n",
    "gph.addEdge(\"3\", \"4\")\n",
    "gph.addEdge(\"2\", \"4\")"
   ]
  },
  {
   "cell_type": "code",
   "execution_count": 7,
   "metadata": {},
   "outputs": [],
   "source": [
    "nnode={}\n",
    "for i in range(len(gph.nodes)):\n",
    "    if (gph.nodes[i].dependencies == 0 ):\n",
    "        if (nnode.get(gph.nodes[i].name) == None):\n",
    "            nnode[gph.nodes[i].name] = gph.nodes[i]\n",
    "            for j in range(len(gph.nodes[i].projectnodes)):\n",
    "                gph.nodes[i].projectnodes[j].decdependencies()\n",
    "        "
   ]
  }
 ],
 "metadata": {
  "kernelspec": {
   "display_name": "Python 3",
   "language": "python",
   "name": "python3"
  },
  "language_info": {
   "codemirror_mode": {
    "name": "ipython",
    "version": 3
   },
   "file_extension": ".py",
   "mimetype": "text/x-python",
   "name": "python",
   "nbconvert_exporter": "python",
   "pygments_lexer": "ipython3",
   "version": "3.7.3"
  }
 },
 "nbformat": 4,
 "nbformat_minor": 2
}
