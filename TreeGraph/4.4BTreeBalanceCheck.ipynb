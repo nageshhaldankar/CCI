{
 "cells": [
  {
   "cell_type": "code",
   "execution_count": 1,
   "metadata": {},
   "outputs": [],
   "source": [
    "#Problem Statement: Check if the tree is balanced tree."
   ]
  },
  {
   "cell_type": "code",
   "execution_count": 2,
   "metadata": {},
   "outputs": [],
   "source": [
    "class Node:\n",
    "    def __init__(self, data):\n",
    "        self.left = None\n",
    "        self.right = None\n",
    "        self.datavalue = data\n",
    "        \n",
    "    def insertNode(self, node):\n",
    "        if (node.datavalue < self.datavalue):\n",
    "            if (self.left == None):\n",
    "                self.left = node\n",
    "            else:\n",
    "                self.left.insertNode(node)\n",
    "        else:\n",
    "            if (self.right == None):\n",
    "                self.right = node\n",
    "            else:\n",
    "                self.right.insertNode(node)\n",
    "\n",
    "    \n",
    "    def preorder(self):\n",
    "        if self:\n",
    "            print(self.datavalue)\n",
    "            if (self.left != None):\n",
    "                self.left.preorder()\n",
    "            if (self.right != None):\n",
    "                self.right.preorder()\n",
    "        return\n",
    "    \n",
    "    def postorder(self):\n",
    "        if self:\n",
    "            if (self.left != None):\n",
    "                self.left.postorder()                \n",
    "            if (self.right != None):\n",
    "                self.right.postorder()\n",
    "            print(self.datavalue)\n",
    "        \n",
    "    \n",
    "    def inorder(self):\n",
    "        if self:\n",
    "            if (self.left != None):\n",
    "                self.left.inorder()\n",
    "            print(self.datavalue)\n",
    "            if (self.right != None):\n",
    "                self.right.inorder()\n",
    "        return\n",
    "    def findvalue(self, data):\n",
    "        retvalue=False\n",
    "        if self:\n",
    "            if (self.datavalue == data):\n",
    "                print('Found')\n",
    "                return True\n",
    "            else:\n",
    "                if (self.left != None and not retvalue):\n",
    "                    retvalue = self.left.findvalue(data)\n",
    "                if (self.right != None and not retvalue):\n",
    "                    retvalue = self.right.findvalue(data)\n",
    "        return retvalue\n"
   ]
  },
  {
   "cell_type": "code",
   "execution_count": 3,
   "metadata": {},
   "outputs": [],
   "source": [
    "root = Node(30)"
   ]
  },
  {
   "cell_type": "code",
   "execution_count": 4,
   "metadata": {},
   "outputs": [],
   "source": [
    "root.insertNode(Node(10))\n",
    "root.insertNode(Node(40))\n",
    "root.insertNode(Node(5))\n",
    "root.insertNode(Node(89))\n",
    "root.insertNode(Node(6))\n",
    "root.insertNode(Node(4))"
   ]
  },
  {
   "cell_type": "code",
   "execution_count": 5,
   "metadata": {},
   "outputs": [],
   "source": [
    "def finddepth(root):\n",
    "    if (root == None):\n",
    "        return -1\n",
    "    leftheight = finddepth(root.left)\n",
    "    rightheight = finddepth(root.right)\n",
    "    hightdiff = leftheight - rightheight\n",
    "    if abs(hightdiff) > 1:\n",
    "        return -100\n",
    "    else:\n",
    "        return max(leftheight, rightheight) + 1\n"
   ]
  },
  {
   "cell_type": "code",
   "execution_count": 6,
   "metadata": {},
   "outputs": [
    {
     "name": "stdout",
     "output_type": "stream",
     "text": [
      "Not a Balanced Tree\n"
     ]
    }
   ],
   "source": [
    "if (finddepth(root) != -100):\n",
    "    print('Its a Balanced Tree')\n",
    "else:\n",
    "    print('Not a Balanced Tree')"
   ]
  }
 ],
 "metadata": {
  "kernelspec": {
   "display_name": "Python 3",
   "language": "python",
   "name": "python3"
  },
  "language_info": {
   "codemirror_mode": {
    "name": "ipython",
    "version": 3
   },
   "file_extension": ".py",
   "mimetype": "text/x-python",
   "name": "python",
   "nbconvert_exporter": "python",
   "pygments_lexer": "ipython3",
   "version": "3.7.3"
  }
 },
 "nbformat": 4,
 "nbformat_minor": 2
}
