{
 "cells": [
  {
   "cell_type": "code",
   "execution_count": 1,
   "metadata": {},
   "outputs": [],
   "source": [
    "#Problem Statement: Check if the tree is BST"
   ]
  },
  {
   "cell_type": "code",
   "execution_count": 12,
   "metadata": {},
   "outputs": [],
   "source": [
    "class Node:\n",
    "    def __init__(self, data):\n",
    "        self.left = None\n",
    "        self.right = None\n",
    "        self.datavalue = data\n",
    "        \n",
    "    def insertNode(self, node):\n",
    "        if (node.datavalue < self.datavalue):\n",
    "            if (self.left == None):\n",
    "                self.left = node\n",
    "            else:\n",
    "                self.left.insertNode(node)\n",
    "        else:\n",
    "            if (self.right == None):\n",
    "                self.right = node\n",
    "            else:\n",
    "                self.right.insertNode(node)\n",
    "\n",
    "    \n",
    "    def preorder(self):\n",
    "        if self:\n",
    "            print(self.datavalue)\n",
    "            if (self.left != None):\n",
    "                self.left.preorder()\n",
    "            if (self.right != None):\n",
    "                self.right.preorder()\n",
    "        return\n",
    "    \n",
    "    def postorder(self):\n",
    "        if self:\n",
    "            if (self.left != None):\n",
    "                self.left.postorder()                \n",
    "            if (self.right != None):\n",
    "                self.right.postorder()\n",
    "            print(self.datavalue)\n",
    "        \n",
    "    \n",
    "    def inorder(self):\n",
    "        if self:\n",
    "            if (self.left != None):\n",
    "                self.left.inorder()\n",
    "            print(self.datavalue)\n",
    "            if (self.right != None):\n",
    "                self.right.inorder()\n",
    "        return\n",
    "    def findvalue(self, data):\n",
    "        retvalue=False\n",
    "        if self:\n",
    "            if (self.datavalue == data):\n",
    "                print('Found')\n",
    "                return True\n",
    "            else:\n",
    "                if (self.left != None and not retvalue):\n",
    "                    retvalue = self.left.findvalue(data)\n",
    "                if (self.right != None and not retvalue):\n",
    "                    retvalue = self.right.findvalue(data)\n",
    "        return retvalue\n"
   ]
  },
  {
   "cell_type": "code",
   "execution_count": 13,
   "metadata": {},
   "outputs": [],
   "source": [
    "root = Node(30)"
   ]
  },
  {
   "cell_type": "code",
   "execution_count": 14,
   "metadata": {},
   "outputs": [],
   "source": [
    "root.insertNode(Node(10))\n",
    "root.insertNode(Node(40))\n",
    "# root.insertNode(Node(5))\n",
    "# root.insertNode(Node(89))\n",
    "# root.insertNode(Node(6))\n",
    "# root.insertNode(Node(4))"
   ]
  },
  {
   "cell_type": "markdown",
   "metadata": {},
   "source": [
    "# List approach"
   ]
  },
  {
   "cell_type": "code",
   "execution_count": 23,
   "metadata": {},
   "outputs": [],
   "source": [
    "count=0\n",
    "listn=[]"
   ]
  },
  {
   "cell_type": "code",
   "execution_count": 25,
   "metadata": {},
   "outputs": [],
   "source": [
    "def findBST(root):\n",
    "    if (root):\n",
    "        findBST(root.left)\n",
    "        listn.append(root.datavalue)\n",
    "        findBST(root.right)\n"
   ]
  },
  {
   "cell_type": "code",
   "execution_count": 26,
   "metadata": {},
   "outputs": [],
   "source": [
    "findBST(root)"
   ]
  },
  {
   "cell_type": "code",
   "execution_count": 47,
   "metadata": {},
   "outputs": [],
   "source": [
    "i=1\n",
    "flag=True"
   ]
  },
  {
   "cell_type": "code",
   "execution_count": 48,
   "metadata": {},
   "outputs": [],
   "source": [
    "while (i < len(listn)):\n",
    "    if (listn[i] < listn[i-1]):\n",
    "        flag=False\n",
    "    i+=1"
   ]
  },
  {
   "cell_type": "code",
   "execution_count": 49,
   "metadata": {},
   "outputs": [
    {
     "name": "stdout",
     "output_type": "stream",
     "text": [
      "BST\n"
     ]
    }
   ],
   "source": [
    "if (flag):\n",
    "    print('BST')\n",
    "else:\n",
    "    print('Not a BST')"
   ]
  },
  {
   "cell_type": "markdown",
   "metadata": {},
   "source": [
    "# Min Max Approach"
   ]
  },
  {
   "cell_type": "code",
   "execution_count": 54,
   "metadata": {},
   "outputs": [],
   "source": [
    "def checkBST(n, min, max):\n",
    "    if (n == None):\n",
    "        return True\n",
    "    if ((min != None and n.datavalue <=min) or (max!= None and n.datavalue > max)):\n",
    "        return False\n",
    "    if ((not (checkBST(n.left, min, n.datavalue))) and (notcheckBST(n.right, n.datavalue, max))):\n",
    "        return False\n",
    "    return True    "
   ]
  },
  {
   "cell_type": "code",
   "execution_count": 55,
   "metadata": {},
   "outputs": [
    {
     "data": {
      "text/plain": [
       "True"
      ]
     },
     "execution_count": 55,
     "metadata": {},
     "output_type": "execute_result"
    }
   ],
   "source": [
    "checkBST(root, None, None)"
   ]
  }
 ],
 "metadata": {
  "kernelspec": {
   "display_name": "Python 3",
   "language": "python",
   "name": "python3"
  },
  "language_info": {
   "codemirror_mode": {
    "name": "ipython",
    "version": 3
   },
   "file_extension": ".py",
   "mimetype": "text/x-python",
   "name": "python",
   "nbconvert_exporter": "python",
   "pygments_lexer": "ipython3",
   "version": "3.7.3"
  }
 },
 "nbformat": 4,
 "nbformat_minor": 2
}
