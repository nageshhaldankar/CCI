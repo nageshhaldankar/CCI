{
 "cells": [
  {
   "cell_type": "code",
   "execution_count": 1,
   "metadata": {},
   "outputs": [],
   "source": [
    "#Problem Statement: Pre order traversal"
   ]
  },
  {
   "cell_type": "code",
   "execution_count": 49,
   "metadata": {},
   "outputs": [],
   "source": [
    "class Node:\n",
    "    def __init__(self, data):\n",
    "        self.left = None\n",
    "        self.right = None\n",
    "        self.datavalue = data\n",
    "\n"
   ]
  },
  {
   "cell_type": "code",
   "execution_count": 50,
   "metadata": {},
   "outputs": [],
   "source": [
    "def insertNode(rnode, node):\n",
    "    if (node.datavalue < rnode.datavalue):\n",
    "        if (rnode.left == None):\n",
    "            rnode.left = node\n",
    "            return\n",
    "        insertNode(rnode.left, node)\n",
    "    else:\n",
    "        if (rnode.right == None):\n",
    "            rnode.right = node\n",
    "            return\n",
    "        insertNode(rnode.right, node)\n",
    "    return\n",
    "    "
   ]
  },
  {
   "cell_type": "code",
   "execution_count": 51,
   "metadata": {},
   "outputs": [],
   "source": [
    "def preorder(node):\n",
    "    if (node != None):\n",
    "        preorder(node.left)\n",
    "        print(node.datavalue)\n",
    "        preorder(node.right)"
   ]
  },
  {
   "cell_type": "code",
   "execution_count": 52,
   "metadata": {},
   "outputs": [],
   "source": [
    "def postorder(node):\n",
    "    if (node != None):\n",
    "        postorder(node.left)\n",
    "        postorder(node.right)\n",
    "        print(node.datavalue)"
   ]
  },
  {
   "cell_type": "code",
   "execution_count": 53,
   "metadata": {},
   "outputs": [],
   "source": [
    "root = Node(30)"
   ]
  },
  {
   "cell_type": "code",
   "execution_count": 54,
   "metadata": {},
   "outputs": [],
   "source": [
    "insertNode(root, Node(10))\n",
    "insertNode(root, Node(40))\n",
    "insertNode(root, Node(5))\n",
    "insertNode(root, Node(89))\n",
    "insertNode(root, Node(6))"
   ]
  },
  {
   "cell_type": "code",
   "execution_count": 55,
   "metadata": {},
   "outputs": [
    {
     "name": "stdout",
     "output_type": "stream",
     "text": [
      "5\n",
      "6\n",
      "10\n",
      "30\n",
      "40\n",
      "89\n"
     ]
    }
   ],
   "source": [
    "preorder(root)"
   ]
  },
  {
   "cell_type": "code",
   "execution_count": 48,
   "metadata": {},
   "outputs": [
    {
     "name": "stdout",
     "output_type": "stream",
     "text": [
      "6\n",
      "5\n",
      "10\n",
      "89\n",
      "40\n",
      "30\n"
     ]
    }
   ],
   "source": [
    "postorder(root)"
   ]
  }
 ],
 "metadata": {
  "kernelspec": {
   "display_name": "Python 3",
   "language": "python",
   "name": "python3"
  },
  "language_info": {
   "codemirror_mode": {
    "name": "ipython",
    "version": 3
   },
   "file_extension": ".py",
   "mimetype": "text/x-python",
   "name": "python",
   "nbconvert_exporter": "python",
   "pygments_lexer": "ipython3",
   "version": "3.7.3"
  }
 },
 "nbformat": 4,
 "nbformat_minor": 2
}
