{
 "cells": [
  {
   "cell_type": "code",
   "execution_count": 1,
   "metadata": {},
   "outputs": [],
   "source": [
    "#Problem Statement: Insert a Given Array in a Tree"
   ]
  },
  {
   "cell_type": "code",
   "execution_count": 2,
   "metadata": {},
   "outputs": [],
   "source": [
    "import numpy as np"
   ]
  },
  {
   "cell_type": "code",
   "execution_count": 3,
   "metadata": {},
   "outputs": [],
   "source": [
    "class Node:\n",
    "    def __init__(self, data):\n",
    "        self.left = None\n",
    "        self.right = None\n",
    "        self.datavalue = data\n",
    "        \n",
    "    def insertNode(self, node):\n",
    "        if (node.datavalue < self.datavalue):\n",
    "            if (self.left == None):\n",
    "                self.left = node\n",
    "            else:\n",
    "                self.left.insertNode(node)\n",
    "        else:\n",
    "            if (self.right == None):\n",
    "                self.right = node\n",
    "            else:\n",
    "                self.right.insertNode(node)\n",
    "\n",
    "    \n",
    "    def preorder(self):\n",
    "        if self:\n",
    "            print(self.datavalue)\n",
    "            if (self.left != None):\n",
    "                self.left.preorder()\n",
    "            if (self.right != None):\n",
    "                self.right.preorder()\n",
    "        return\n",
    "    \n",
    "    def postorder(self):\n",
    "        if self:\n",
    "            if (self.left != None):\n",
    "                self.left.postorder()                \n",
    "            if (self.right != None):\n",
    "                self.right.postorder()\n",
    "            print(self.datavalue)\n",
    "        \n",
    "    \n",
    "    def inorder(self):\n",
    "        if self:\n",
    "            if (self.left != None):\n",
    "                self.left.inorder()\n",
    "            print(self.datavalue)\n",
    "            if (self.right != None):\n",
    "                self.right.inorder()\n",
    "        return\n",
    "    def findvalue(self, data):\n",
    "        retvalue=False\n",
    "        if self:\n",
    "            if (self.datavalue == data):\n",
    "                print('Found')\n",
    "                return True\n",
    "            else:\n",
    "                if (self.left != None and not retvalue):\n",
    "                    retvalue = self.left.findvalue(data)\n",
    "                if (self.right != None and not retvalue):\n",
    "                    retvalue = self.right.findvalue(data)\n",
    "        return retvalue\n"
   ]
  },
  {
   "cell_type": "code",
   "execution_count": 4,
   "metadata": {},
   "outputs": [],
   "source": [
    "data = [1,2,3,4,5,6,7,8,9,10,11,12]"
   ]
  },
  {
   "cell_type": "code",
   "execution_count": 6,
   "metadata": {},
   "outputs": [],
   "source": [
    "def createBTree(dlist, start, end):\n",
    "    if (end < start):\n",
    "        return None\n",
    "    mid = int((start +end)/2)\n",
    "    n1 = Node(data[mid])\n",
    "    n1.left = createBTree(data, start, mid-1)\n",
    "    n1.right = createBTree(data, mid+1, end)\n",
    "    return n1"
   ]
  },
  {
   "cell_type": "code",
   "execution_count": 7,
   "metadata": {},
   "outputs": [],
   "source": [
    "k1 = createBTree(data, 0, len(data)-1)"
   ]
  },
  {
   "cell_type": "code",
   "execution_count": 9,
   "metadata": {},
   "outputs": [
    {
     "name": "stdout",
     "output_type": "stream",
     "text": [
      "2\n",
      "1\n",
      "5\n",
      "4\n",
      "3\n",
      "8\n",
      "7\n",
      "10\n",
      "12\n",
      "11\n",
      "9\n",
      "6\n"
     ]
    }
   ],
   "source": [
    "k1.postorder()"
   ]
  }
 ],
 "metadata": {
  "kernelspec": {
   "display_name": "Python 3",
   "language": "python",
   "name": "python3"
  },
  "language_info": {
   "codemirror_mode": {
    "name": "ipython",
    "version": 3
   },
   "file_extension": ".py",
   "mimetype": "text/x-python",
   "name": "python",
   "nbconvert_exporter": "python",
   "pygments_lexer": "ipython3",
   "version": "3.7.3"
  }
 },
 "nbformat": 4,
 "nbformat_minor": 2
}
