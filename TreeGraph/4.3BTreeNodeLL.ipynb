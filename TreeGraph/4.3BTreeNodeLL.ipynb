{
 "cells": [
  {
   "cell_type": "code",
   "execution_count": 1,
   "metadata": {},
   "outputs": [],
   "source": [
    "#Problem Statement: Create a link list for each level of Binary Tree"
   ]
  },
  {
   "cell_type": "code",
   "execution_count": 50,
   "metadata": {},
   "outputs": [],
   "source": [
    "class NodeL:\n",
    "    def __init__(self, data):\n",
    "        self.datavalue = data\n",
    "        self.nextval = None\n",
    "        \n",
    "class SLinkedlist:\n",
    "    def __init__(self):\n",
    "        self.headval = None\n",
    "    def insertend(self, data):\n",
    "        n1 = NodeL(data)\n",
    "        if (self.headval == None):\n",
    "            self.headval = n1\n",
    "        else:\n",
    "            ntemp = self.headval\n",
    "            while (ntemp.nextval != None):\n",
    "                ntemp = ntemp.nextval\n",
    "            ntemp.nextval = n1\n",
    "    def insertbeg(self, data):\n",
    "        n1 = NodeL(data)\n",
    "        n1.nextval = self.headval\n",
    "        self.headval = n1\n",
    "    def printvalue(self):\n",
    "        ntemp = self.headval\n",
    "        while (ntemp != None):\n",
    "            print(ntemp.datavalue)\n",
    "            ntemp = ntemp.nextval"
   ]
  },
  {
   "cell_type": "code",
   "execution_count": 51,
   "metadata": {},
   "outputs": [],
   "source": [
    "class Node:\n",
    "    def __init__(self, data):\n",
    "        self.left = None\n",
    "        self.right = None\n",
    "        self.datavalue = data\n",
    "        \n",
    "    def insertNode(self, node):\n",
    "        if (node.datavalue < self.datavalue):\n",
    "            if (self.left == None):\n",
    "                self.left = node\n",
    "            else:\n",
    "                self.left.insertNode(node)\n",
    "        else:\n",
    "            if (self.right == None):\n",
    "                self.right = node\n",
    "            else:\n",
    "                self.right.insertNode(node)\n",
    "\n",
    "    \n",
    "    def preorder(self):\n",
    "        if self:\n",
    "            print(self.datavalue)\n",
    "            if (self.left != None):\n",
    "                self.left.preorder()\n",
    "            if (self.right != None):\n",
    "                self.right.preorder()\n",
    "        return\n",
    "    \n",
    "    def postorder(self):\n",
    "        if self:\n",
    "            if (self.left != None):\n",
    "                self.left.postorder()                \n",
    "            if (self.right != None):\n",
    "                self.right.postorder()\n",
    "            print(self.datavalue)\n",
    "        \n",
    "    \n",
    "    def inorder(self):\n",
    "        if self:\n",
    "            if (self.left != None):\n",
    "                self.left.inorder()\n",
    "            print(self.datavalue)\n",
    "            if (self.right != None):\n",
    "                self.right.inorder()\n",
    "        return\n",
    "    \n",
    "    def findvalue(self, data):\n",
    "        retvalue=False\n",
    "        if self:\n",
    "            if (self.datavalue == data):\n",
    "                print('Found')\n",
    "                return True\n",
    "            else:\n",
    "                if (self.left != None and not retvalue):\n",
    "                    retvalue = self.left.findvalue(data)\n",
    "                if (self.right != None and not retvalue):\n",
    "                    retvalue = self.right.findvalue(data)\n",
    "        return retvalue\n"
   ]
  },
  {
   "cell_type": "code",
   "execution_count": 52,
   "metadata": {},
   "outputs": [],
   "source": [
    "root = Node(30)"
   ]
  },
  {
   "cell_type": "code",
   "execution_count": 53,
   "metadata": {},
   "outputs": [],
   "source": [
    "root.insertNode(Node(10))\n",
    "root.insertNode(Node(40))\n",
    "root.insertNode(Node(5))\n",
    "root.insertNode(Node(89))\n",
    "root.insertNode(Node(6))"
   ]
  },
  {
   "cell_type": "code",
   "execution_count": 54,
   "metadata": {},
   "outputs": [
    {
     "name": "stdout",
     "output_type": "stream",
     "text": [
      "Found\n",
      "The value is found in Tree\n"
     ]
    }
   ],
   "source": [
    "found = root.findvalue(6)\n",
    "if (found):\n",
    "    print('The value is found in Tree')\n",
    "else:\n",
    "    print('The Value is not found in Tree')"
   ]
  },
  {
   "cell_type": "code",
   "execution_count": 55,
   "metadata": {},
   "outputs": [
    {
     "name": "stdout",
     "output_type": "stream",
     "text": [
      "5\n",
      "6\n",
      "10\n",
      "30\n",
      "40\n",
      "89\n"
     ]
    }
   ],
   "source": [
    "root.inorder()"
   ]
  },
  {
   "cell_type": "code",
   "execution_count": 56,
   "metadata": {},
   "outputs": [],
   "source": [
    "dictl = {}"
   ]
  },
  {
   "cell_type": "code",
   "execution_count": 57,
   "metadata": {},
   "outputs": [],
   "source": [
    "def NodeLL(root, level):\n",
    "    if (root):\n",
    "        if (dictl.get(level)== None):\n",
    "            dictl[level]=SLinkedlist()\n",
    "        s1 = dictl.get(level)\n",
    "        s1.insertend(root.datavalue)\n",
    "        NodeLL(root.left, level+1)\n",
    "        NodeLL(root.right, level+1)    "
   ]
  },
  {
   "cell_type": "code",
   "execution_count": 58,
   "metadata": {},
   "outputs": [],
   "source": [
    "NodeLL(root, 0)"
   ]
  },
  {
   "cell_type": "code",
   "execution_count": 59,
   "metadata": {},
   "outputs": [
    {
     "name": "stdout",
     "output_type": "stream",
     "text": [
      "<__main__.SLinkedlist object at 0x00000224457D6F60>\n"
     ]
    }
   ],
   "source": [
    "print(dictl.get(0))"
   ]
  },
  {
   "cell_type": "code",
   "execution_count": 63,
   "metadata": {},
   "outputs": [
    {
     "name": "stdout",
     "output_type": "stream",
     "text": [
      "6\n"
     ]
    }
   ],
   "source": [
    "dictl.get(3).printvalue()"
   ]
  }
 ],
 "metadata": {
  "kernelspec": {
   "display_name": "Python 3",
   "language": "python",
   "name": "python3"
  },
  "language_info": {
   "codemirror_mode": {
    "name": "ipython",
    "version": 3
   },
   "file_extension": ".py",
   "mimetype": "text/x-python",
   "name": "python",
   "nbconvert_exporter": "python",
   "pygments_lexer": "ipython3",
   "version": "3.7.3"
  }
 },
 "nbformat": 4,
 "nbformat_minor": 2
}
